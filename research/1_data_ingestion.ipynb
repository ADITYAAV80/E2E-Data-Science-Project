{
 "cells": [
  {
   "cell_type": "code",
   "execution_count": 1,
   "metadata": {},
   "outputs": [],
   "source": [
    "import os"
   ]
  },
  {
   "cell_type": "code",
   "execution_count": 2,
   "metadata": {},
   "outputs": [],
   "source": [
    "os.chdir(\"../\")"
   ]
  },
  {
   "cell_type": "code",
   "execution_count": 3,
   "metadata": {},
   "outputs": [
    {
     "name": "stdout",
     "output_type": "stream",
     "text": [
      "/home/aditya/MLOPS/E2E-Data-Science-Project\n"
     ]
    }
   ],
   "source": [
    "!pwd"
   ]
  },
  {
   "cell_type": "code",
   "execution_count": 36,
   "metadata": {},
   "outputs": [],
   "source": [
    "from pydantic import BaseModel, HttpUrl\n",
    "from pathlib import Path\n",
    "\n",
    "class DataIngestionConfig(BaseModel):\n",
    "    root_dir: Path\n",
    "    source_url: HttpUrl  # Ensures it's a valid URL\n",
    "    local_datafile: Path\n",
    "    unzip_dir: Path"
   ]
  },
  {
   "cell_type": "code",
   "execution_count": 37,
   "metadata": {},
   "outputs": [],
   "source": [
    "from src.DataScienceWorkflow.constants import *\n",
    "from src.DataScienceWorkflow.utils.common import read_yaml,create_directories\n",
    "from box import Box\n",
    "\n",
    "class ConfigurationManager:\n",
    "    def __init__(self,\n",
    "                 config_filepath = CONFIG_FILE_PATH,\n",
    "                 params_filepath = PARAMS_FILE_PATH,\n",
    "                 schema_filepath = SCHEMA_FILE_PATH):\n",
    "        \n",
    "        self.config = read_yaml(config_filepath)\n",
    "        self.params = read_yaml(params_filepath)\n",
    "        self.schema = read_yaml(schema_filepath)\n",
    "\n",
    "        create_directories([self.config.artifacts_root])\n",
    "    \n",
    "    def get_data_ingestion_config(self)->DataIngestionConfig:\n",
    "\n",
    "        config = self.config.data_ingestion\n",
    "        create_directories([config.root_dir])\n",
    "\n",
    "        data_ingestion_config = DataIngestionConfig(\n",
    "            root_dir = config.root_dir,\n",
    "            source_url = config.source_url,\n",
    "            local_datafile = config.local_datafile,\n",
    "            unzip_dir = config.unzip_dir\n",
    "        )\n",
    "\n",
    "        return data_ingestion_config"
   ]
  },
  {
   "cell_type": "code",
   "execution_count": 38,
   "metadata": {},
   "outputs": [
    {
     "name": "stdout",
     "output_type": "stream",
     "text": [
      "[2025-03-29 14:50:39,725: INFO: common : Yaml File: config/config.yaml loaded successfully]\n",
      "[2025-03-29 14:50:39,726: INFO: common : Yaml File: params.yaml loaded successfully]\n",
      "[2025-03-29 14:50:39,726: INFO: common : Yaml File: schema.yaml loaded successfully]\n",
      "[2025-03-29 14:50:39,727: INFO: common : created directory at: artifacts]\n",
      "[2025-03-29 14:50:39,728: INFO: common : created directory at: artifacts/data_ingestion]\n"
     ]
    },
    {
     "data": {
      "text/plain": [
       "DataIngestionConfig(root_dir=PosixPath('artifacts/data_ingestion'), source_url=HttpUrl('https://github.com/krishnaik06/datasets/raw/refs/heads/main/winequality-data.zip'), local_datafile=PosixPath('artifacts/data_ingestion/data.zip'), unzip_dir=PosixPath('artifacts/data_ingestion'))"
      ]
     },
     "execution_count": 38,
     "metadata": {},
     "output_type": "execute_result"
    }
   ],
   "source": [
    "cm = ConfigurationManager()\n",
    "data_ingestion_config = cm.get_data_ingestion_config()\n",
    "\n",
    "data_ingestion_config"
   ]
  },
  {
   "cell_type": "code",
   "execution_count": 39,
   "metadata": {},
   "outputs": [],
   "source": [
    "from src.DataScienceWorkflow import logger\n",
    "from urllib import request\n",
    "import zipfile\n",
    "\n",
    "class DataIngestion:\n",
    "\n",
    "    def __init__(self,config):\n",
    "        self.config = config\n",
    "    \n",
    "    def download_file(self):\n",
    "\n",
    "        if not os.path.exists(self.config.local_datafile):\n",
    "            filename,headers = request.urlretrieve(\n",
    "                url = str(self.config.source_url),\n",
    "                filename = self.config.local_datafile\n",
    "            )\n",
    "            logger.info(f\"{filename} downloaded! with following info {headers}\")\n",
    "        else:\n",
    "            logger.info(f\"File already exists\")\n",
    "    \n",
    "    def extract_zip_file(self):\n",
    "\n",
    "        unzip_path = self.config.unzip_dir\n",
    "        os.makedirs(unzip_path,exist_ok=True)\n",
    "        with zipfile.ZipFile(self.config.local_datafile,'r') as zip_ref:\n",
    "            zip_ref.extractall(unzip_path)"
   ]
  },
  {
   "cell_type": "code",
   "execution_count": 40,
   "metadata": {},
   "outputs": [
    {
     "name": "stdout",
     "output_type": "stream",
     "text": [
      "[2025-03-29 14:50:44,331: INFO: 1030460877 : artifacts/data_ingestion/data.zip downloaded! with following info Connection: close\n",
      "Content-Length: 23329\n",
      "Cache-Control: max-age=300\n",
      "Content-Security-Policy: default-src 'none'; style-src 'unsafe-inline'; sandbox\n",
      "Content-Type: application/zip\n",
      "ETag: \"c69888a4ae59bc5a893392785a938ccd4937981c06ba8a9d6a21aa52b4ab5b6e\"\n",
      "Strict-Transport-Security: max-age=31536000\n",
      "X-Content-Type-Options: nosniff\n",
      "X-Frame-Options: deny\n",
      "X-XSS-Protection: 1; mode=block\n",
      "X-GitHub-Request-Id: 6C94:2A8B2D:3C9AA8:99B324:67E7BACB\n",
      "Accept-Ranges: bytes\n",
      "Date: Sat, 29 Mar 2025 09:20:44 GMT\n",
      "Via: 1.1 varnish\n",
      "X-Served-By: cache-hyd1100029-HYD\n",
      "X-Cache: HIT\n",
      "X-Cache-Hits: 1\n",
      "X-Timer: S1743240044.294735,VS0,VE0\n",
      "Vary: Authorization,Accept-Encoding,Origin\n",
      "Access-Control-Allow-Origin: *\n",
      "Cross-Origin-Resource-Policy: cross-origin\n",
      "X-Fastly-Request-ID: 1a6b0e7fa6b327a35696b5151a924d278d77c8a6\n",
      "Expires: Sat, 29 Mar 2025 09:25:44 GMT\n",
      "Source-Age: 156\n",
      "\n",
      "]\n"
     ]
    }
   ],
   "source": [
    "di = DataIngestion(data_ingestion_config)\n",
    "\n",
    "di.download_file()\n",
    "di.extract_zip_file()"
   ]
  },
  {
   "cell_type": "code",
   "execution_count": null,
   "metadata": {},
   "outputs": [],
   "source": []
  }
 ],
 "metadata": {
  "kernelspec": {
   "display_name": "E2E-Data-Sciene-Project",
   "language": "python",
   "name": "python3"
  },
  "language_info": {
   "codemirror_mode": {
    "name": "ipython",
    "version": 3
   },
   "file_extension": ".py",
   "mimetype": "text/x-python",
   "name": "python",
   "nbconvert_exporter": "python",
   "pygments_lexer": "ipython3",
   "version": "3.12.9"
  }
 },
 "nbformat": 4,
 "nbformat_minor": 2
}
