{
 "cells": [
  {
   "cell_type": "code",
   "execution_count": 1,
   "metadata": {},
   "outputs": [
    {
     "name": "stdout",
     "output_type": "stream",
     "text": [
      "/home/aditya/MLOPS/E2E-Data-Science-Project\n"
     ]
    }
   ],
   "source": [
    "import os\n",
    "os.chdir(\"../\")\n",
    "!pwd"
   ]
  },
  {
   "cell_type": "code",
   "execution_count": 7,
   "metadata": {},
   "outputs": [],
   "source": [
    "os.environ[\"MLFLOW_TRACKING_URI\"] = \"https://dagshub.com/adityaav80/wine_quality.mlflow\"\n",
    "os.environ[\"MLFLOW_TRACKING_USERNAME\"] = \"ADITYAAV80\" \n",
    "os.environ[\"MLFLOW_TRACKING_PASSWORD\"] = \"7c7d5f1b5994f5230784a07f1f9573168c40c053\""
   ]
  },
  {
   "cell_type": "code",
   "execution_count": 8,
   "metadata": {},
   "outputs": [],
   "source": [
    "from pathlib import Path\n",
    "from pydantic import BaseModel\n",
    "\n",
    "\"\"\"\n",
    "model_evaluation:\n",
    "    root_dir: artifacts/model_evaluation\n",
    "    test_data_path: artifacts/data_transformation/test.csv\n",
    "    model_path: artifacts/model_trainer/model.joblib\n",
    "    metric_file_name: artifacts/model_evaluation/metrics.json\n",
    "\"\"\"\n",
    "class ModelEvaluationConfig(BaseModel):\n",
    "    ## from config\n",
    "    root_dir: Path\n",
    "    test_data_path: Path\n",
    "    model_path: Path\n",
    "    metric_file_name: str\n",
    "    all_params:dict\n",
    "    target_column: str\n",
    "    mlflow_uri: str"
   ]
  },
  {
   "cell_type": "code",
   "execution_count": null,
   "metadata": {},
   "outputs": [],
   "source": [
    "from src.DataScienceWorkflow.constants import *\n",
    "from src.DataScienceWorkflow.utils.common import read_yaml,create_directories\n",
    "\n",
    "class ConfigurationManager:\n",
    "    def __init__(self,\n",
    "                 config_filepath = CONFIG_FILE_PATH,\n",
    "                 params_filepath = PARAMS_FILE_PATH,\n",
    "                 schema_filepath = SCHEMA_FILE_PATH):\n",
    "        \n",
    "        self.config = read_yaml(config_filepath)\n",
    "        self.params = read_yaml(params_filepath)\n",
    "        self.schema = read_yaml(schema_filepath)\n",
    "\n",
    "        create_directories([self.config.artifacts_root])\n",
    "    \n",
    "    def get_model_evaluation_config(self)->ModelEvaluationConfig:\n",
    "\n",
    "        config = self.config.model_evaluation\n",
    "        params = self.params.ElasticNet\n",
    "        schema = self.schema.TARGET_COLUMN\n",
    "\n",
    "        create_directories([config.root_dir])\n",
    "\n",
    "        data_model_evaluation_config = ModelEvaluationConfig(\n",
    "            \n",
    "            root_dir = config.root_dir,\n",
    "            test_data_path = config.test_data_path,\n",
    "            model_path = config.model_path,\n",
    "            metric_file_name = config.metric_file_name,\n",
    "            all_params=params,\n",
    "            target_column=schema.name,\n",
    "            mlflow_uri=\"https://dagshub.com/adityaav80/wine_quality.mlflow\"\n",
    "        )\n",
    "\n",
    "        return data_model_evaluation_config"
   ]
  },
  {
   "cell_type": "code",
   "execution_count": 12,
   "metadata": {},
   "outputs": [
    {
     "name": "stdout",
     "output_type": "stream",
     "text": [
      "[2025-03-29 22:03:44,506: INFO: common : Yaml File: config/config.yaml loaded successfully]\n",
      "[2025-03-29 22:03:44,508: INFO: common : Yaml File: params.yaml loaded successfully]\n",
      "[2025-03-29 22:03:44,509: INFO: common : Yaml File: schema.yaml loaded successfully]\n",
      "[2025-03-29 22:03:44,509: INFO: common : created directory at: artifacts]\n",
      "[2025-03-29 22:03:44,510: INFO: common : created directory at: artifacts/model_evaluation]\n"
     ]
    }
   ],
   "source": [
    "cm = ConfigurationManager()\n",
    "data_model_evaluation_config = cm.get_model_evaluation_config()"
   ]
  },
  {
   "cell_type": "code",
   "execution_count": 14,
   "metadata": {},
   "outputs": [],
   "source": [
    "import pandas as pd\n",
    "import joblib\n",
    "from sklearn.metrics import mean_absolute_error,mean_squared_error,r2_score\n",
    "import numpy as np\n",
    "import mlflow\n",
    "from urllib.parse import urlparse\n",
    "from src.DataScienceWorkflow.utils.common import save_json\n",
    "\n",
    "\n",
    "class ModelEvaluate:\n",
    "    def __init__(self,config: ModelEvaluationConfig):\n",
    "        self.config = config\n",
    "    \n",
    "    def eval_metrics(self,actual,pred):\n",
    "\n",
    "        rmse = np.sqrt(mean_squared_error(actual,pred))\n",
    "        mae = mean_absolute_error(actual,pred)\n",
    "        r2 = r2_score(actual,pred)\n",
    "\n",
    "        return rmse,mae,r2_score\n",
    "\n",
    "    \n",
    "    def log_into_mlflow(self):\n",
    "\n",
    "        test_data = pd.read_csv(self.config.test_data_path)\n",
    "        model = joblib.load(self.config.model_path)\n",
    "\n",
    "        x_test = test_data.drop([self.config.target_column],axis = 1)\n",
    "        y_test = test_data[self.config.target_column]\n",
    "\n",
    "        mlflow.set_registry_uri(self.config.mlflow_uri)\n",
    "        tracking_url_type_store = urlparse(mlflow.get_tracking_uri()).scheme\n",
    "\n",
    "        with mlflow.start_run():\n",
    "\n",
    "            y_pred = model.predict(x_test)\n",
    "            (rmse, mae, r2) = self.eval_metrics(y_test, y_pred)\n",
    "            \n",
    "            # Saving metrics as local\n",
    "            scores = {\"rmse\": rmse, \"mae\": mae, \"r2\": r2}\n",
    "            save_json(path=Path(self.config.metric_file_name), data=scores)\n",
    "\n",
    "            mlflow.log_params(self.config.all_params)\n",
    "\n",
    "            mlflow.log_metric(\"rmse\", rmse)\n",
    "            mlflow.log_metric(\"r2\", r2)\n",
    "            mlflow.log_metric(\"mae\", mae)\n",
    "\n",
    "\n",
    "            # Model registry does not work with file store\n",
    "            if tracking_url_type_store != \"file\":\n",
    "\n",
    "                # Register the model\n",
    "                # There are other ways to use the Model Registry, which depends on the use case,\n",
    "                # please refer to the doc for more information:\n",
    "                # https://mlflow.org/docs/latest/model-registry.html#api-workflow\n",
    "                mlflow.sklearn.log_model(model, \"model\", registered_model_name=\"ElasticnetModel\")\n",
    "            else:\n",
    "                mlflow.sklearn.log_model(model, \"model\")\n",
    "    "
   ]
  },
  {
   "cell_type": "code",
   "execution_count": 15,
   "metadata": {},
   "outputs": [
    {
     "name": "stdout",
     "output_type": "stream",
     "text": [
      "🏃 View run luminous-zebra-957 at: https://dagshub.com/adityaav80/wine_quality.mlflow/#/experiments/0/runs/82159c1b84b54e2c893134d6a8a0eaa5\n",
      "🧪 View experiment at: https://dagshub.com/adityaav80/wine_quality.mlflow/#/experiments/0\n",
      "Unexpected exception formatting exception. Falling back to standard exception\n"
     ]
    },
    {
     "name": "stderr",
     "output_type": "stream",
     "text": [
      "Traceback (most recent call last):\n",
      "  File \"/home/aditya/miniconda3/envs/E2E-Data-Sciene-Project/lib/python3.12/site-packages/IPython/core/interactiveshell.py\", line 3549, in run_code\n",
      "    exec(code_obj, self.user_global_ns, self.user_ns)\n",
      "  File \"/tmp/ipykernel_440119/1349868686.py\", line 2, in <module>\n",
      "    me.log_into_mlflow()\n",
      "  File \"/tmp/ipykernel_440119/1107931009.py\", line 41, in log_into_mlflow\n",
      "    save_json(path=Path(self.config.metric_file_name), data=scores)\n",
      "  File \"/home/aditya/miniconda3/envs/E2E-Data-Sciene-Project/lib/python3.12/site-packages/pydantic/_internal/_validate_call.py\", line 39, in wrapper_function\n",
      "    return wrapper(*args, **kwargs)\n",
      "           ^^^^^^^^^^^^^^^^^^^^^^^^\n",
      "  File \"/home/aditya/miniconda3/envs/E2E-Data-Sciene-Project/lib/python3.12/site-packages/pydantic/_internal/_validate_call.py\", line 136, in __call__\n",
      "    res = self.__pydantic_validator__.validate_python(pydantic_core.ArgsKwargs(args, kwargs))\n",
      "          ^^^^^^^^^^^^^^^^^^^^^^^^^^^^^^^^^^^^^^^^^^^^^^^^^^^^^^^^^^^^^^^^^^^^^^^^^^^^^^^^^^^\n",
      "  File \"/home/aditya/MLOPS/E2E-Data-Science-Project/src/DataScienceWorkflow/utils/common.py\", line 57, in save_json\n",
      "    json.dump(data, f, indent=4)\n",
      "  File \"/home/aditya/miniconda3/envs/E2E-Data-Sciene-Project/lib/python3.12/json/__init__.py\", line 179, in dump\n",
      "    for chunk in iterable:\n",
      "                 ^^^^^^^^\n",
      "  File \"/home/aditya/miniconda3/envs/E2E-Data-Sciene-Project/lib/python3.12/json/encoder.py\", line 432, in _iterencode\n",
      "    yield from _iterencode_dict(o, _current_indent_level)\n",
      "  File \"/home/aditya/miniconda3/envs/E2E-Data-Sciene-Project/lib/python3.12/json/encoder.py\", line 406, in _iterencode_dict\n",
      "    yield from chunks\n",
      "  File \"/home/aditya/miniconda3/envs/E2E-Data-Sciene-Project/lib/python3.12/json/encoder.py\", line 439, in _iterencode\n",
      "    o = _default(o)\n",
      "        ^^^^^^^^^^^\n",
      "  File \"/home/aditya/miniconda3/envs/E2E-Data-Sciene-Project/lib/python3.12/json/encoder.py\", line 180, in default\n",
      "    raise TypeError(f'Object of type {o.__class__.__name__} '\n",
      "TypeError: Object of type function is not JSON serializable\n",
      "\n",
      "During handling of the above exception, another exception occurred:\n",
      "\n",
      "Traceback (most recent call last):\n",
      "  File \"/home/aditya/miniconda3/envs/E2E-Data-Sciene-Project/lib/python3.12/site-packages/IPython/core/interactiveshell.py\", line 2173, in showtraceback\n",
      "    stb = self.InteractiveTB.structured_traceback(\n",
      "          ^^^^^^^^^^^^^^^^^^^^^^^^^^^^^^^^^^^^^^^^\n",
      "  File \"/home/aditya/miniconda3/envs/E2E-Data-Sciene-Project/lib/python3.12/site-packages/IPython/core/ultratb.py\", line 1182, in structured_traceback\n",
      "    return FormattedTB.structured_traceback(\n",
      "           ^^^^^^^^^^^^^^^^^^^^^^^^^^^^^^^^^\n",
      "  File \"/home/aditya/miniconda3/envs/E2E-Data-Sciene-Project/lib/python3.12/site-packages/IPython/core/ultratb.py\", line 1053, in structured_traceback\n",
      "    return VerboseTB.structured_traceback(\n",
      "           ^^^^^^^^^^^^^^^^^^^^^^^^^^^^^^^\n",
      "  File \"/home/aditya/miniconda3/envs/E2E-Data-Sciene-Project/lib/python3.12/site-packages/IPython/core/ultratb.py\", line 861, in structured_traceback\n",
      "    formatted_exceptions: list[list[str]] = self.format_exception_as_a_whole(\n",
      "                                            ^^^^^^^^^^^^^^^^^^^^^^^^^^^^^^^^^\n",
      "  File \"/home/aditya/miniconda3/envs/E2E-Data-Sciene-Project/lib/python3.12/site-packages/IPython/core/ultratb.py\", line 773, in format_exception_as_a_whole\n",
      "    frames.append(self.format_record(record))\n",
      "                  ^^^^^^^^^^^^^^^^^^^^^^^^^^\n",
      "  File \"/home/aditya/miniconda3/envs/E2E-Data-Sciene-Project/lib/python3.12/site-packages/IPython/core/ultratb.py\", line 652, in format_record\n",
      "    frame_info.lines,\n",
      "    ^^^^^^^^^^^^^^^^\n",
      "  File \"/home/aditya/miniconda3/envs/E2E-Data-Sciene-Project/lib/python3.12/site-packages/IPython/core/tbtools.py\", line 355, in lines\n",
      "    return self._sd.lines  # type: ignore[misc]\n",
      "           ^^^^^^^^^^^^^^\n",
      "  File \"/home/aditya/miniconda3/envs/E2E-Data-Sciene-Project/lib/python3.12/site-packages/stack_data/utils.py\", line 145, in cached_property_wrapper\n",
      "    value = obj.__dict__[self.func.__name__] = self.func(obj)\n",
      "                                               ^^^^^^^^^^^^^^\n",
      "  File \"/home/aditya/miniconda3/envs/E2E-Data-Sciene-Project/lib/python3.12/site-packages/stack_data/core.py\", line 734, in lines\n",
      "    pieces = self.included_pieces\n",
      "             ^^^^^^^^^^^^^^^^^^^^\n",
      "  File \"/home/aditya/miniconda3/envs/E2E-Data-Sciene-Project/lib/python3.12/site-packages/stack_data/utils.py\", line 145, in cached_property_wrapper\n",
      "    value = obj.__dict__[self.func.__name__] = self.func(obj)\n",
      "                                               ^^^^^^^^^^^^^^\n",
      "  File \"/home/aditya/miniconda3/envs/E2E-Data-Sciene-Project/lib/python3.12/site-packages/stack_data/core.py\", line 677, in included_pieces\n",
      "    scope_pieces = self.scope_pieces\n",
      "                   ^^^^^^^^^^^^^^^^^\n",
      "  File \"/home/aditya/miniconda3/envs/E2E-Data-Sciene-Project/lib/python3.12/site-packages/stack_data/utils.py\", line 145, in cached_property_wrapper\n",
      "    value = obj.__dict__[self.func.__name__] = self.func(obj)\n",
      "                                               ^^^^^^^^^^^^^^\n",
      "  File \"/home/aditya/miniconda3/envs/E2E-Data-Sciene-Project/lib/python3.12/site-packages/stack_data/core.py\", line 614, in scope_pieces\n",
      "    scope_start, scope_end = self.source.line_range(self.scope)\n",
      "                             ^^^^^^^^^^^^^^^^^^^^^^^^^^^^^^^^^^\n",
      "  File \"/home/aditya/miniconda3/envs/E2E-Data-Sciene-Project/lib/python3.12/site-packages/stack_data/core.py\", line 178, in line_range\n",
      "    return line_range(self.asttext(), node)\n",
      "                      ^^^^^^^^^^^^\n",
      "AttributeError: 'Source' object has no attribute 'asttext'\n"
     ]
    }
   ],
   "source": [
    "me = ModelEvaluate(data_model_evaluation_config)\n",
    "me.log_into_mlflow()"
   ]
  },
  {
   "cell_type": "code",
   "execution_count": null,
   "metadata": {},
   "outputs": [],
   "source": []
  }
 ],
 "metadata": {
  "kernelspec": {
   "display_name": "E2E-Data-Sciene-Project",
   "language": "python",
   "name": "python3"
  },
  "language_info": {
   "codemirror_mode": {
    "name": "ipython",
    "version": 3
   },
   "file_extension": ".py",
   "mimetype": "text/x-python",
   "name": "python",
   "nbconvert_exporter": "python",
   "pygments_lexer": "ipython3",
   "version": "3.12.9"
  }
 },
 "nbformat": 4,
 "nbformat_minor": 2
}
