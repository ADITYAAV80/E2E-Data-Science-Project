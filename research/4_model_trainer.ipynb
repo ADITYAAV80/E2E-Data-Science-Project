{
 "cells": [
  {
   "cell_type": "code",
   "execution_count": 1,
   "metadata": {},
   "outputs": [
    {
     "name": "stdout",
     "output_type": "stream",
     "text": [
      "/home/aditya/MLOPS/E2E-Data-Science-Project\n"
     ]
    }
   ],
   "source": [
    "import os\n",
    "os.chdir(\"../\")\n",
    "!pwd"
   ]
  },
  {
   "cell_type": "code",
   "execution_count": 2,
   "metadata": {},
   "outputs": [],
   "source": [
    "from pathlib import Path\n",
    "from pydantic import BaseModel\n",
    "\n",
    "class ModelTrainerConfig(BaseModel):\n",
    "    ## from config\n",
    "    root_dir: Path\n",
    "    train_data_path: Path\n",
    "    test_data_path: Path\n",
    "    model_name: str\n",
    "    ## from params\n",
    "    alpha: float  \n",
    "    l1_ratio: float\n",
    "    ## from schema \n",
    "    target_column: str"
   ]
  },
  {
   "cell_type": "code",
   "execution_count": 3,
   "metadata": {},
   "outputs": [],
   "source": [
    "from src.DataScienceWorkflow.constants import *\n",
    "from src.DataScienceWorkflow.utils.common import read_yaml,create_directories\n",
    "\n",
    "class ConfigurationManager:\n",
    "    def __init__(self,\n",
    "                 config_filepath = CONFIG_FILE_PATH,\n",
    "                 params_filepath = PARAMS_FILE_PATH,\n",
    "                 schema_filepath = SCHEMA_FILE_PATH):\n",
    "        \n",
    "        self.config = read_yaml(config_filepath)\n",
    "        self.params = read_yaml(params_filepath)\n",
    "        self.schema = read_yaml(schema_filepath)\n",
    "\n",
    "        create_directories([self.config.artifacts_root])\n",
    "    \n",
    "    def get_model_trainer_config(self)->ModelTrainerConfig:\n",
    "\n",
    "        config = self.config.model_trainer\n",
    "        params = self.params.ElasticNet\n",
    "        schema = self.schema.TARGET_COLUMN\n",
    "\n",
    "        create_directories([config.root_dir])\n",
    "\n",
    "        data_model_trainer_config = ModelTrainerConfig(\n",
    "            \n",
    "            root_dir = config.root_dir,\n",
    "            train_data_path = config.train_data_path,\n",
    "            test_data_path = config.test_data_path,\n",
    "            model_name = config.model_name,\n",
    "            alpha =  params.alpha,\n",
    "            l1_ratio = params.l1_ratio,\n",
    "            target_column = schema.name,\n",
    "        )\n",
    "\n",
    "        return data_model_trainer_config"
   ]
  },
  {
   "cell_type": "code",
   "execution_count": 4,
   "metadata": {},
   "outputs": [
    {
     "name": "stdout",
     "output_type": "stream",
     "text": [
      "[2025-03-29 19:38:48,966: INFO: common : Yaml File: config/config.yaml loaded successfully]\n",
      "[2025-03-29 19:38:48,967: INFO: common : Yaml File: params.yaml loaded successfully]\n",
      "[2025-03-29 19:38:48,969: INFO: common : Yaml File: schema.yaml loaded successfully]\n",
      "[2025-03-29 19:38:48,969: INFO: common : created directory at: artifacts]\n",
      "[2025-03-29 19:38:48,970: INFO: common : created directory at: artifacts/model_trainer]\n"
     ]
    }
   ],
   "source": [
    "cm = ConfigurationManager()\n",
    "data_model_trainer_config = cm.get_model_trainer_config()"
   ]
  },
  {
   "cell_type": "code",
   "execution_count": 5,
   "metadata": {},
   "outputs": [],
   "source": [
    "import pandas as pd\n",
    "from sklearn.model_selection import train_test_split\n",
    "from src.DataScienceWorkflow import logger\n",
    "from sklearn.linear_model import ElasticNet\n",
    "import joblib\n",
    "\n",
    "# perform all EDA here\n",
    "class ModelTrainer:\n",
    "    def __init__(self,config: ModelTrainerConfig):\n",
    "        self.config = config\n",
    "    \n",
    "    def train(self):\n",
    "\n",
    "        train_data = pd.read_csv(self.config.train_data_path)\n",
    "        test_data = pd.read_csv(self.config.test_data_path)\n",
    "\n",
    "        x_train = train_data.drop([self.config.target_column],axis=1)\n",
    "        x_test = test_data.drop([self.config.target_column],axis = 1)\n",
    "\n",
    "        y_train = train_data[self.config.target_column]\n",
    "        y_test = test_data[self.config.target_column]\n",
    "\n",
    "        lr = ElasticNet(alpha=self.config.alpha,\n",
    "                        l1_ratio=self.config.l1_ratio,\n",
    "                        random_state = 42\n",
    "                        )\n",
    "        \n",
    "        lr.fit(x_train,y_train)\n",
    "\n",
    "        joblib.dump(lr, os.path.join(self.config.root_dir,self.config.model_name))\n"
   ]
  },
  {
   "cell_type": "code",
   "execution_count": null,
   "metadata": {},
   "outputs": [],
   "source": [
    "ml = ModelTrainer(data_model_trainer_config)\n",
    "ml.train()"
   ]
  },
  {
   "cell_type": "code",
   "execution_count": null,
   "metadata": {},
   "outputs": [],
   "source": []
  }
 ],
 "metadata": {
  "kernelspec": {
   "display_name": "E2E-Data-Sciene-Project",
   "language": "python",
   "name": "python3"
  },
  "language_info": {
   "codemirror_mode": {
    "name": "ipython",
    "version": 3
   },
   "file_extension": ".py",
   "mimetype": "text/x-python",
   "name": "python",
   "nbconvert_exporter": "python",
   "pygments_lexer": "ipython3",
   "version": "3.12.9"
  }
 },
 "nbformat": 4,
 "nbformat_minor": 2
}
